{
 "cells": [
  {
   "cell_type": "code",
   "execution_count": 7,
   "id": "6f23010e-f014-4cbf-860e-7eb7fb37731e",
   "metadata": {},
   "outputs": [],
   "source": [
    "# https://adventofcode.com/2023/day/7"
   ]
  },
  {
   "cell_type": "code",
   "execution_count": 13,
   "id": "ffd6a20b-cef9-4009-b159-65a92e38aca1",
   "metadata": {},
   "outputs": [],
   "source": [
    "from collections import Counter"
   ]
  },
  {
   "cell_type": "code",
   "execution_count": 70,
   "id": "e34ac438-6aaa-4969-afc5-9d5a94d5b8c4",
   "metadata": {},
   "outputs": [],
   "source": [
    "hands = \"\"\"\n",
    "32T3K 765\n",
    "T55J5 684\n",
    "KK677 28\n",
    "KTJJT 220\n",
    "QQQJA 483\n",
    "\"\"\""
   ]
  },
  {
   "cell_type": "code",
   "execution_count": 11,
   "id": "3e3d8ad8-b924-4e2a-b390-dc09abe03826",
   "metadata": {},
   "outputs": [],
   "source": [
    "hands = s.split(\"\\n\")"
   ]
  },
  {
   "cell_type": "code",
   "execution_count": 84,
   "id": "d4be9d17-2490-42a0-a59e-9484e8442ef9",
   "metadata": {},
   "outputs": [],
   "source": [
    "def a_pair(hand):\n",
    "    counts_by_letter = Counter(hand)\n",
    "    if not counts_by_letter:\n",
    "        return 0\n",
    "    return max(Counter(({k: v for k,v in counts_by_letter.items() if v > 1}).values()).values())"
   ]
  },
  {
   "cell_type": "code",
   "execution_count": 85,
   "id": "762a9b0d-3a60-4e84-b04a-53e7c2514576",
   "metadata": {},
   "outputs": [],
   "source": [
    "def of_a_kind(hand):\n",
    "    counts_by_letter = Counter(hand)\n",
    "    if not counts_by_letter:\n",
    "        return 0\n",
    "    return max(counts_by_letter.values())"
   ]
  },
  {
   "cell_type": "code",
   "execution_count": 86,
   "id": "ae36622c-6554-4224-9e45-270db78c152d",
   "metadata": {},
   "outputs": [],
   "source": [
    "def full_house(hand):\n",
    "    counts_by_letter = Counter(hand)\n",
    "    if not counts_by_letter:\n",
    "        return 0\n",
    "    return all([e in counts_by_letter.values() for e in [3,2]])\n",
    "    "
   ]
  },
  {
   "cell_type": "code",
   "execution_count": 87,
   "id": "1182e903-f1db-4828-9120-666c2b28ede1",
   "metadata": {},
   "outputs": [],
   "source": [
    "def test_hand(hand):\n",
    "    is_kind = of_a_kind(hand)\n",
    "    is_pair = a_pair(hand)\n",
    "    is_full_house = full_house(hand)\n",
    "    return is_kind, is_pair, is_full_house"
   ]
  },
  {
   "cell_type": "code",
   "execution_count": 88,
   "id": "404d8fb6-bb65-4609-8d4e-f8de2c8933b8",
   "metadata": {},
   "outputs": [
    {
     "data": {
      "text/plain": [
       "[(0, 0, 0),\n",
       " (2, 3, False),\n",
       " (3, 2, False),\n",
       " (2, 2, False),\n",
       " (2, 2, False),\n",
       " (3, 2, False),\n",
       " (0, 0, 0)]"
      ]
     },
     "execution_count": 88,
     "metadata": {},
     "output_type": "execute_result"
    }
   ],
   "source": [
    "[test_hand(s.split(\" \")[0]) for s in hands.split(\"\\n\")]"
   ]
  }
 ],
 "metadata": {
  "kernelspec": {
   "display_name": "Python 3 (ipykernel)",
   "language": "python",
   "name": "python3"
  },
  "language_info": {
   "codemirror_mode": {
    "name": "ipython",
    "version": 3
   },
   "file_extension": ".py",
   "mimetype": "text/x-python",
   "name": "python",
   "nbconvert_exporter": "python",
   "pygments_lexer": "ipython3",
   "version": "3.11.3"
  }
 },
 "nbformat": 4,
 "nbformat_minor": 5
}
